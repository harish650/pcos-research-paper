{
 "cells": [
  {
   "cell_type": "code",
   "execution_count": 12,
   "metadata": {},
   "outputs": [
    {
     "name": "stdout",
     "output_type": "stream",
     "text": [
      "|-- laptop\n",
      "   |-- A\n",
      "   |-- B\n",
      "   |-- C\n",
      "|-- cellphone\n",
      "   |-- D\n",
      "   |-- E\n",
      "   |-- F\n",
      "|-- tv\n",
      "   |-- G\n",
      "   |-- H\n"
     ]
    }
   ],
   "source": [
    "from pickle import NONE\n",
    "\n",
    "\n",
    "class Treenode:\n",
    "    def __init__(self,data):\n",
    "        self.data=data\n",
    "        self.children=[]\n",
    "        self.parent=None\n",
    "    def add_child(self,child):\n",
    "        child.parent=self\n",
    "        self.children.append(child)\n",
    "    def print_tree(self):\n",
    "        for i in self.children:\n",
    "            print(\"|--\",i.data)\n",
    "            # print(i.data)\n",
    "            for j in i.children:\n",
    "                print(\"   |--\",j.data)\n",
    "            \n",
    "root = Treenode(\"electronics\") \n",
    "\n",
    "laptop=Treenode(\"laptop\")\n",
    "laptop.add_child(Treenode(\"A\"))\n",
    "laptop.add_child(Treenode(\"B\"))\n",
    "laptop.add_child(Treenode(\"C\"))\n",
    "\n",
    "cellphone=Treenode(\"cellphone\")\n",
    "cellphone.add_child(Treenode(\"D\"))\n",
    "cellphone.add_child(Treenode(\"E\"))\n",
    "cellphone.add_child(Treenode(\"F\"))\n",
    "\n",
    "tv=Treenode(\"tv\")\n",
    "tv.add_child(Treenode(\"G\"))\n",
    "tv.add_child(Treenode(\"H\"))\n",
    "\n",
    "root.add_child(laptop)\n",
    "root.add_child(cellphone)\n",
    "root.add_child(tv)\n",
    "\n",
    "root.print_tree()\n"
   ]
  },
  {
   "cell_type": "code",
   "execution_count": 32,
   "metadata": {},
   "outputs": [
    {
     "name": "stdout",
     "output_type": "stream",
     "text": [
      "10\n",
      "80\n",
      "[2, 'h', 1, 'a', 2, 'r', 1, 'i', 2, 's', 2, 'e']\n",
      "['h', 'a', 'r', 'i', 's', 'e']\n"
     ]
    }
   ],
   "source": [
    "string=\"harishsree\"\n",
    "print(len(string))\n",
    "print(len(string)*8)\n",
    "\n",
    "letters=[]\n",
    "only_letters=[]\n",
    "for letter in string:\n",
    "    if letter not in letters:\n",
    "        letters.append(string.count(letter))\n",
    "        letters.append(letter)\n",
    "        only_letters.append(letter)\n",
    "print(letters)\n",
    "print(only_letters)"
   ]
  },
  {
   "cell_type": "code",
   "execution_count": 60,
   "metadata": {},
   "outputs": [
    {
     "name": "stdout",
     "output_type": "stream",
     "text": [
      "['d', 'h', 'a', 'n', 's', 'r', 'e']\n",
      "[1, 1, 2, 1, 1, 1, 2]\n",
      "d \n",
      "h \n",
      "a \n",
      "n \n",
      "s \n",
      "r \n",
      "e \n",
      "dr \n",
      "hs \n",
      "na \n",
      "hse \n",
      "drna \n",
      "hsedrna \n",
      "h->000\n",
      "s->001\n",
      "e->01\n",
      "d->100\n",
      "r->101\n",
      "n->110\n",
      "a->111\n"
     ]
    }
   ],
   "source": [
    "import heapq\n",
    "\n",
    "class node:\n",
    "    def __init__(self,freq,char,left=None,right=None):\n",
    "        self.freq=freq\n",
    "        self.char=char\n",
    "        self.left=left\n",
    "        self.right=right\n",
    "        self.huff = ''\n",
    "        print(self.char,self.huff)\n",
    "    def __lt__(self, nxt):\n",
    "        return self.freq < nxt.freq\n",
    "def printree(nodes,val=''):\n",
    "    newval=val+str(nodes.huff)\n",
    "    if (nodes.left):\n",
    "        printree(nodes.left,newval)\n",
    "    if (nodes.right):\n",
    "        printree(nodes.right,newval)\n",
    "    if not nodes.left and not nodes.right:\n",
    "        print(f\"{nodes.char}->{newval}\")\n",
    "string=\"dhanasree\"\n",
    "chars=[]\n",
    "freq=[]\n",
    "nodes=[]\n",
    "for letter in string:\n",
    "    if letter not in chars:\n",
    "        freq.append(string.count(letter))\n",
    "        chars.append(letter)\n",
    "# heapq.heapify(chars)\n",
    "print(chars)\n",
    "print(freq)\n",
    "for l in range(len(chars)):\n",
    "    heapq.heappush(nodes,node(freq[l],chars[l]))\n",
    "\n",
    "while len(nodes)>1:\n",
    "    left=heapq.heappop(nodes)\n",
    "   \n",
    "    right=heapq.heappop(nodes)\n",
    "    left.huff = 0\n",
    "    right.huff = 1\n",
    "    newnode=node(left.freq+right.freq,left.char+right.char,left,right)\n",
    "    heapq.heappush(nodes,newnode)\n",
    "printree(nodes[0])"
   ]
  }
 ],
 "metadata": {
  "kernelspec": {
   "display_name": "Python 3.10.5 64-bit",
   "language": "python",
   "name": "python3"
  },
  "language_info": {
   "codemirror_mode": {
    "name": "ipython",
    "version": 3
   },
   "file_extension": ".py",
   "mimetype": "text/x-python",
   "name": "python",
   "nbconvert_exporter": "python",
   "pygments_lexer": "ipython3",
   "version": "3.10.5"
  },
  "orig_nbformat": 4,
  "vscode": {
   "interpreter": {
    "hash": "edc3efee26212c4ac272c2158fd6cceb44aed2ef3bcfc3a88988251fc38b4edd"
   }
  }
 },
 "nbformat": 4,
 "nbformat_minor": 2
}
